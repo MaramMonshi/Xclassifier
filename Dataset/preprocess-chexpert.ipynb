{
 "cells": [
  {
   "cell_type": "markdown",
   "id": "f78bddba",
   "metadata": {},
   "source": [
    "# Pre-Process CheXpert Dataset"
   ]
  },
  {
   "cell_type": "code",
   "execution_count": 1,
   "id": "c5679312",
   "metadata": {},
   "outputs": [],
   "source": [
    "from fastai.basics import *"
   ]
  },
  {
   "cell_type": "code",
   "execution_count": 2,
   "id": "ca30c293",
   "metadata": {},
   "outputs": [],
   "source": [
    "from fastai.basics import *\n",
    "path = Path('/home/jupyter/CheXpert-v1.0-small')"
   ]
  },
  {
   "cell_type": "code",
   "execution_count": 3,
   "id": "34a11bbc",
   "metadata": {},
   "outputs": [
    {
     "name": "stdout",
     "output_type": "stream",
     "text": [
      "<class 'pandas.core.frame.DataFrame'>\n",
      "RangeIndex: 223414 entries, 0 to 223413\n",
      "Data columns (total 19 columns):\n",
      " #   Column                      Non-Null Count   Dtype  \n",
      "---  ------                      --------------   -----  \n",
      " 0   Path                        223414 non-null  object \n",
      " 1   Sex                         223414 non-null  object \n",
      " 2   Age                         223414 non-null  int64  \n",
      " 3   Frontal/Lateral             223414 non-null  object \n",
      " 4   AP/PA                       191027 non-null  object \n",
      " 5   No Finding                  22381 non-null   float64\n",
      " 6   Enlarged Cardiomediastinum  44839 non-null   float64\n",
      " 7   Cardiomegaly                46203 non-null   float64\n",
      " 8   Lung Opacity                117778 non-null  float64\n",
      " 9   Lung Lesion                 11944 non-null   float64\n",
      " 10  Edema                       85956 non-null   float64\n",
      " 11  Consolidation               70622 non-null   float64\n",
      " 12  Pneumonia                   27608 non-null   float64\n",
      " 13  Atelectasis                 68443 non-null   float64\n",
      " 14  Pneumothorax                78934 non-null   float64\n",
      " 15  Pleural Effusion            133211 non-null  float64\n",
      " 16  Pleural Other               6492 non-null    float64\n",
      " 17  Fracture                    12194 non-null   float64\n",
      " 18  Support Devices             123217 non-null  float64\n",
      "dtypes: float64(14), int64(1), object(4)\n",
      "memory usage: 32.4+ MB\n"
     ]
    }
   ],
   "source": [
    "df_train = pd.read_csv(path/'train.csv')\n",
    "df_train.info()"
   ]
  },
  {
   "cell_type": "code",
   "execution_count": 4,
   "id": "a641248c",
   "metadata": {},
   "outputs": [
    {
     "name": "stdout",
     "output_type": "stream",
     "text": [
      "<class 'pandas.core.frame.DataFrame'>\n",
      "RangeIndex: 234 entries, 0 to 233\n",
      "Data columns (total 19 columns):\n",
      " #   Column                      Non-Null Count  Dtype  \n",
      "---  ------                      --------------  -----  \n",
      " 0   Path                        234 non-null    object \n",
      " 1   Sex                         234 non-null    object \n",
      " 2   Age                         234 non-null    int64  \n",
      " 3   Frontal/Lateral             234 non-null    object \n",
      " 4   AP/PA                       202 non-null    object \n",
      " 5   No Finding                  234 non-null    float64\n",
      " 6   Enlarged Cardiomediastinum  234 non-null    float64\n",
      " 7   Cardiomegaly                234 non-null    float64\n",
      " 8   Lung Opacity                234 non-null    float64\n",
      " 9   Lung Lesion                 234 non-null    float64\n",
      " 10  Edema                       234 non-null    float64\n",
      " 11  Consolidation               234 non-null    float64\n",
      " 12  Pneumonia                   234 non-null    float64\n",
      " 13  Atelectasis                 234 non-null    float64\n",
      " 14  Pneumothorax                234 non-null    float64\n",
      " 15  Pleural Effusion            234 non-null    float64\n",
      " 16  Pleural Other               234 non-null    float64\n",
      " 17  Fracture                    234 non-null    float64\n",
      " 18  Support Devices             234 non-null    float64\n",
      "dtypes: float64(14), int64(1), object(4)\n",
      "memory usage: 34.9+ KB\n"
     ]
    }
   ],
   "source": [
    "df_valid = pd.read_csv(path/'valid.csv')\n",
    "df_valid.info()"
   ]
  },
  {
   "cell_type": "code",
   "execution_count": 5,
   "id": "b79c329e",
   "metadata": {},
   "outputs": [
    {
     "name": "stdout",
     "output_type": "stream",
     "text": [
      "<class 'pandas.core.frame.DataFrame'>\n",
      "Int64Index: 223648 entries, 0 to 233\n",
      "Data columns (total 19 columns):\n",
      " #   Column                      Non-Null Count   Dtype  \n",
      "---  ------                      --------------   -----  \n",
      " 0   Path                        223648 non-null  object \n",
      " 1   Sex                         223648 non-null  object \n",
      " 2   Age                         223648 non-null  int64  \n",
      " 3   Frontal/Lateral             223648 non-null  object \n",
      " 4   AP/PA                       191229 non-null  object \n",
      " 5   No Finding                  22615 non-null   float64\n",
      " 6   Enlarged Cardiomediastinum  45073 non-null   float64\n",
      " 7   Cardiomegaly                46437 non-null   float64\n",
      " 8   Lung Opacity                118012 non-null  float64\n",
      " 9   Lung Lesion                 12178 non-null   float64\n",
      " 10  Edema                       86190 non-null   float64\n",
      " 11  Consolidation               70856 non-null   float64\n",
      " 12  Pneumonia                   27842 non-null   float64\n",
      " 13  Atelectasis                 68677 non-null   float64\n",
      " 14  Pneumothorax                79168 non-null   float64\n",
      " 15  Pleural Effusion            133445 non-null  float64\n",
      " 16  Pleural Other               6726 non-null    float64\n",
      " 17  Fracture                    12428 non-null   float64\n",
      " 18  Support Devices             123451 non-null  float64\n",
      "dtypes: float64(14), int64(1), object(4)\n",
      "memory usage: 34.1+ MB\n"
     ]
    }
   ],
   "source": [
    "# Merge csv files vertically (on top of each other)\n",
    "frames = [df_train, df_valid]\n",
    "df = pd.concat(frames)\n",
    "df.info()"
   ]
  },
  {
   "cell_type": "code",
   "execution_count": 6,
   "id": "5dcee61e",
   "metadata": {},
   "outputs": [],
   "source": [
    "# from 4 lables to 2 (positive and all others)\n",
    "# orignal data: (blank for unmentioned, 0 for negative, -1 for uncertain, and 1 for positive)\n",
    "# replace missing (NaN) with 0\n",
    "# replace uncertin (-1) with 0\n",
    "df = df.replace(to_replace =-1.0, value =0.0)\n",
    "df = df.replace(to_replace = np.nan, value =0.0)\n",
    "# merge labels in one column\n",
    "df['Atelectasis'] = df['Atelectasis'].replace(to_replace =[1.0], value ='atelectasis')\n",
    "df['Atelectasis'] = df['Atelectasis'].replace(to_replace =[0.0], value =np.nan)\n",
    "df['Cardiomegaly'] = df['Cardiomegaly'].replace(to_replace =[1.0], value ='cardiomegaly')\n",
    "df['Cardiomegaly'] = df['Cardiomegaly'].replace(to_replace =[0.0], value =np.nan)\n",
    "df['Consolidation'] = df['Consolidation'].replace(to_replace =[1.0], value ='consolidation')\n",
    "df['Consolidation'] = df['Consolidation'].replace(to_replace =[0.0], value =np.nan)\n",
    "df['Edema'] = df['Edema'].replace(to_replace =[1.0], value ='edema')\n",
    "df['Edema'] = df['Edema'].replace(to_replace =[0.0], value =np.nan)\n",
    "df['Enlarged Cardiomediastinum'] = df['Enlarged Cardiomediastinum'].replace(to_replace =[1.0], value ='enlarged cardiomediastinum')\n",
    "df['Enlarged Cardiomediastinum'] = df['Enlarged Cardiomediastinum'].replace(to_replace =[0.0], value =np.nan)\n",
    "df['Fracture'] = df['Fracture'].replace(to_replace =[1.0], value ='fracture')\n",
    "df['Fracture'] = df['Fracture'].replace(to_replace =[0.0], value =np.nan)\n",
    "df['Lung Lesion'] = df['Lung Lesion'].replace(to_replace =[1.0], value ='lung lesion')\n",
    "df['Lung Lesion'] = df['Lung Lesion'].replace(to_replace =[0.0], value =np.nan)\n",
    "df['Lung Opacity'] = df['Lung Opacity'].replace(to_replace =[1.0], value ='lung opacity')\n",
    "df['Lung Opacity'] = df['Lung Opacity'].replace(to_replace =[0.0], value =np.nan)\n",
    "df['No Finding'] = df['No Finding'].replace(to_replace =[1.0], value ='finding')\n",
    "df['No Finding'] = df['No Finding'].replace(to_replace =[0.0], value =np.nan)\n",
    "df['Pleural Effusion'] = df['Pleural Effusion'].replace(to_replace =[1.0], value ='pleural effusion')\n",
    "df['Pleural Effusion'] = df['Pleural Effusion'].replace(to_replace =[0.0], value =np.nan)\n",
    "df['Pleural Other'] = df['Pleural Other'].replace(to_replace =[1.0], value ='pleural other')\n",
    "df['Pleural Other'] = df['Pleural Other'].replace(to_replace =[0.0], value =np.nan)\n",
    "df['Pneumonia'] = df['Pneumonia'].replace(to_replace =[1.0], value ='pneumonia')\n",
    "df['Pneumonia'] = df['Pneumonia'].replace(to_replace =[0.0], value =np.nan)\n",
    "df['Pneumothorax'] = df['Pneumothorax'].replace(to_replace =[1.0], value ='pneumothorax')\n",
    "df['Pneumothorax'] = df['Pneumothorax'].replace(to_replace =[0.0], value =np.nan)\n",
    "df['Support Devices'] = df['Support Devices'].replace(to_replace =[1.0], value ='support devices')\n",
    "df['Support Devices'] = df['Support Devices'].replace(to_replace =[0.0], value =np.nan)\n",
    "df['labels'] = df[df.columns[5:19]].apply(lambda x: ','.join(x.dropna().astype(str)),axis=1) #include index 5,6,...18\n",
    "# drop unused columns\n",
    "df = df.drop([\"Sex\", \"Age\", \"Frontal/Lateral\", \"AP/PA\", \"Atelectasis\", \n",
    "              \"Cardiomegaly\", \"Consolidation\", \"Edema\", \"Enlarged Cardiomediastinum\",\n",
    "              \"Fracture\", \"Lung Lesion\", \"Lung Opacity\", \"No Finding\", \"Pleural Effusion\",\n",
    "              \"Pleural Other\", \"Pneumonia\", \"Pneumothorax\", \"Support Devices\"], axis=1)\n",
    "# save labels dataframe\n",
    "df.to_csv(\"/home/jupyter/data/chexpert/chexpert.csv\", index=False, encoding='utf-8-sig')\n",
    "# read train dataframe\n",
    "df = pd.read_csv('/home/jupyter/data/chexpert/chexpert.csv')"
   ]
  },
  {
   "cell_type": "code",
   "execution_count": 7,
   "id": "12a864fc",
   "metadata": {},
   "outputs": [
    {
     "name": "stdout",
     "output_type": "stream",
     "text": [
      "<class 'pandas.core.frame.DataFrame'>\n",
      "Int64Index: 212498 entries, 0 to 223647\n",
      "Data columns (total 2 columns):\n",
      " #   Column  Non-Null Count   Dtype \n",
      "---  ------  --------------   ----- \n",
      " 0   Path    212498 non-null  object\n",
      " 1   labels  212498 non-null  object\n",
      "dtypes: object(2)\n",
      "memory usage: 4.9+ MB\n"
     ]
    }
   ],
   "source": [
    "# drop rows with no any label\n",
    "df = df.dropna(subset=['labels'])\n",
    "df.info()"
   ]
  },
  {
   "cell_type": "code",
   "execution_count": 8,
   "id": "71bda2a2",
   "metadata": {},
   "outputs": [
    {
     "data": {
      "text/html": [
       "<div>\n",
       "<style scoped>\n",
       "    .dataframe tbody tr th:only-of-type {\n",
       "        vertical-align: middle;\n",
       "    }\n",
       "\n",
       "    .dataframe tbody tr th {\n",
       "        vertical-align: top;\n",
       "    }\n",
       "\n",
       "    .dataframe thead th {\n",
       "        text-align: right;\n",
       "    }\n",
       "</style>\n",
       "<table border=\"1\" class=\"dataframe\">\n",
       "  <thead>\n",
       "    <tr style=\"text-align: right;\">\n",
       "      <th></th>\n",
       "      <th>Path</th>\n",
       "      <th>labels</th>\n",
       "    </tr>\n",
       "  </thead>\n",
       "  <tbody>\n",
       "    <tr>\n",
       "      <th>223643</th>\n",
       "      <td>CheXpert-v1.0-small/valid/patient64736/study1/view1_frontal.jpg</td>\n",
       "      <td>support devices</td>\n",
       "    </tr>\n",
       "    <tr>\n",
       "      <th>223644</th>\n",
       "      <td>CheXpert-v1.0-small/valid/patient64737/study1/view1_frontal.jpg</td>\n",
       "      <td>support devices</td>\n",
       "    </tr>\n",
       "    <tr>\n",
       "      <th>223645</th>\n",
       "      <td>CheXpert-v1.0-small/valid/patient64738/study1/view1_frontal.jpg</td>\n",
       "      <td>enlarged cardiomediastinum,cardiomegaly,lung opacity,edema,support devices</td>\n",
       "    </tr>\n",
       "    <tr>\n",
       "      <th>223646</th>\n",
       "      <td>CheXpert-v1.0-small/valid/patient64739/study1/view1_frontal.jpg</td>\n",
       "      <td>enlarged cardiomediastinum</td>\n",
       "    </tr>\n",
       "    <tr>\n",
       "      <th>223647</th>\n",
       "      <td>CheXpert-v1.0-small/valid/patient64740/study1/view1_frontal.jpg</td>\n",
       "      <td>enlarged cardiomediastinum,lung opacity,atelectasis,pleural effusion</td>\n",
       "    </tr>\n",
       "  </tbody>\n",
       "</table>\n",
       "</div>"
      ],
      "text/plain": [
       "                                                                   Path  \\\n",
       "223643  CheXpert-v1.0-small/valid/patient64736/study1/view1_frontal.jpg   \n",
       "223644  CheXpert-v1.0-small/valid/patient64737/study1/view1_frontal.jpg   \n",
       "223645  CheXpert-v1.0-small/valid/patient64738/study1/view1_frontal.jpg   \n",
       "223646  CheXpert-v1.0-small/valid/patient64739/study1/view1_frontal.jpg   \n",
       "223647  CheXpert-v1.0-small/valid/patient64740/study1/view1_frontal.jpg   \n",
       "\n",
       "                                                                            labels  \n",
       "223643                                                             support devices  \n",
       "223644                                                             support devices  \n",
       "223645  enlarged cardiomediastinum,cardiomegaly,lung opacity,edema,support devices  \n",
       "223646                                                  enlarged cardiomediastinum  \n",
       "223647        enlarged cardiomediastinum,lung opacity,atelectasis,pleural effusion  "
      ]
     },
     "execution_count": 8,
     "metadata": {},
     "output_type": "execute_result"
    }
   ],
   "source": [
    "df.tail()"
   ]
  }
 ],
 "metadata": {
  "environment": {
   "kernel": "python3",
   "name": "pytorch-gpu.1-10.m87",
   "type": "gcloud",
   "uri": "gcr.io/deeplearning-platform-release/pytorch-gpu.1-10:m87"
  },
  "kernelspec": {
   "display_name": "Python 3",
   "language": "python",
   "name": "python3"
  },
  "language_info": {
   "codemirror_mode": {
    "name": "ipython",
    "version": 3
   },
   "file_extension": ".py",
   "mimetype": "text/x-python",
   "name": "python",
   "nbconvert_exporter": "python",
   "pygments_lexer": "ipython3",
   "version": "3.7.12"
  }
 },
 "nbformat": 4,
 "nbformat_minor": 5
}
