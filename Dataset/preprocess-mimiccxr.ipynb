{
 "cells": [
  {
   "cell_type": "markdown",
   "id": "ab14a8c6",
   "metadata": {},
   "source": [
    "# Pre-Process MIMIC-CXR Dataset"
   ]
  },
  {
   "cell_type": "code",
   "execution_count": 1,
   "id": "e398277c",
   "metadata": {},
   "outputs": [],
   "source": [
    "from fastai.basics import *"
   ]
  },
  {
   "cell_type": "code",
   "execution_count": 2,
   "id": "13240956",
   "metadata": {},
   "outputs": [],
   "source": [
    "from fastai.basics import *\n",
    "path = Path('/home/jupyter/data/mimic-cxr-jpg')"
   ]
  },
  {
   "cell_type": "code",
   "execution_count": 3,
   "id": "54cc5e76",
   "metadata": {},
   "outputs": [
    {
     "name": "stdout",
     "output_type": "stream",
     "text": [
      "<class 'pandas.core.frame.DataFrame'>\n",
      "RangeIndex: 377110 entries, 0 to 377109\n",
      "Data columns (total 24 columns):\n",
      " #   Column                      Non-Null Count   Dtype  \n",
      "---  ------                      --------------   -----  \n",
      " 0   dicom_id                    377110 non-null  object \n",
      " 1   subject_id                  377110 non-null  int64  \n",
      " 2   study_id                    377110 non-null  int64  \n",
      " 3   ViewPosition                361341 non-null  object \n",
      " 4   Procedure                   377110 non-null  object \n",
      " 5   View                        360613 non-null  object \n",
      " 6   Orientation                 335944 non-null  object \n",
      " 7   path                        377110 non-null  object \n",
      " 8   reports                     360553 non-null  object \n",
      " 9   Atelectasis                 82830 non-null   float64\n",
      " 10  Cardiomegaly                97781 non-null   float64\n",
      " 11  Consolidation               35377 non-null   float64\n",
      " 12  Edema                       96892 non-null   float64\n",
      " 13  Enlarged Cardiomediastinum  31333 non-null   float64\n",
      " 14  Fracture                    10413 non-null   float64\n",
      " 15  Lung Lesion                 14547 non-null   float64\n",
      " 16  Lung Opacity                87445 non-null   float64\n",
      " 17  No Finding                  143352 non-null  float64\n",
      " 18  Pleural Effusion            128890 non-null  float64\n",
      " 19  Pleural Other               5106 non-null    float64\n",
      " 20  Pneumonia                   98730 non-null   float64\n",
      " 21  Pneumothorax                73538 non-null   float64\n",
      " 22  Support Devices             89593 non-null   float64\n",
      " 23  split                       377110 non-null  object \n",
      "dtypes: float64(14), int64(2), object(8)\n",
      "memory usage: 69.1+ MB\n"
     ]
    }
   ],
   "source": [
    "df = pd.read_csv(path/'mimic_cxr_mix_split.csv')\n",
    "df.info()"
   ]
  },
  {
   "cell_type": "code",
   "execution_count": 4,
   "id": "e953a869",
   "metadata": {},
   "outputs": [],
   "source": [
    "# from 4 lables to 2 (positive and all others)\n",
    "# replace missing (NaN) with 0\n",
    "# replace uncertin (-1) with 0\n",
    "df = df.replace(to_replace =-1.0, value =0.0)\n",
    "df = df.replace(to_replace = np.nan, value =0.0)\n",
    "# replace .dcm with .jpg\n",
    "df['path'] = df['path'].str.replace('dcm', 'jpg')\n",
    "# merge labels in one column\n",
    "df['Atelectasis'] = df['Atelectasis'].replace(to_replace =[1.0], value ='atelectasis')\n",
    "df['Atelectasis'] = df['Atelectasis'].replace(to_replace =[0.0], value =np.nan)\n",
    "df['Cardiomegaly'] = df['Cardiomegaly'].replace(to_replace =[1.0], value ='cardiomegaly')\n",
    "df['Cardiomegaly'] = df['Cardiomegaly'].replace(to_replace =[0.0], value =np.nan)\n",
    "df['Consolidation'] = df['Consolidation'].replace(to_replace =[1.0], value ='consolidation')\n",
    "df['Consolidation'] = df['Consolidation'].replace(to_replace =[0.0], value =np.nan)\n",
    "df['Edema'] = df['Edema'].replace(to_replace =[1.0], value ='edema')\n",
    "df['Edema'] = df['Edema'].replace(to_replace =[0.0], value =np.nan)\n",
    "df['Enlarged Cardiomediastinum'] = df['Enlarged Cardiomediastinum'].replace(to_replace =[1.0], value ='enlarged cardiomediastinum')\n",
    "df['Enlarged Cardiomediastinum'] = df['Enlarged Cardiomediastinum'].replace(to_replace =[0.0], value =np.nan)\n",
    "df['Fracture'] = df['Fracture'].replace(to_replace =[1.0], value ='fracture')\n",
    "df['Fracture'] = df['Fracture'].replace(to_replace =[0.0], value =np.nan)\n",
    "df['Lung Lesion'] = df['Lung Lesion'].replace(to_replace =[1.0], value ='lung lesion')\n",
    "df['Lung Lesion'] = df['Lung Lesion'].replace(to_replace =[0.0], value =np.nan)\n",
    "df['Lung Opacity'] = df['Lung Opacity'].replace(to_replace =[1.0], value ='lung opacity')\n",
    "df['Lung Opacity'] = df['Lung Opacity'].replace(to_replace =[0.0], value =np.nan)\n",
    "df['No Finding'] = df['No Finding'].replace(to_replace =[1.0], value ='finding')\n",
    "df['No Finding'] = df['No Finding'].replace(to_replace =[0.0], value =np.nan)\n",
    "df['Pleural Effusion'] = df['Pleural Effusion'].replace(to_replace =[1.0], value ='pleural effusion')\n",
    "df['Pleural Effusion'] = df['Pleural Effusion'].replace(to_replace =[0.0], value =np.nan)\n",
    "df['Pleural Other'] = df['Pleural Other'].replace(to_replace =[1.0], value ='pleural other')\n",
    "df['Pleural Other'] = df['Pleural Other'].replace(to_replace =[0.0], value =np.nan)\n",
    "df['Pneumonia'] = df['Pneumonia'].replace(to_replace =[1.0], value ='pneumonia')\n",
    "df['Pneumonia'] = df['Pneumonia'].replace(to_replace =[0.0], value =np.nan)\n",
    "df['Pneumothorax'] = df['Pneumothorax'].replace(to_replace =[1.0], value ='pneumothorax')\n",
    "df['Pneumothorax'] = df['Pneumothorax'].replace(to_replace =[0.0], value =np.nan)\n",
    "df['Support Devices'] = df['Support Devices'].replace(to_replace =[1.0], value ='support devices')\n",
    "df['Support Devices'] = df['Support Devices'].replace(to_replace =[0.0], value =np.nan)\n",
    "df['labels'] = df[df.columns[9:23]].apply(lambda x: ','.join(x.dropna().astype(str)),axis=1)\n",
    "# drop unused columns\n",
    "df = df.drop([\"dicom_id\", \"subject_id\", \"study_id\", \"ViewPosition\", \"Procedure\", \"View\", \n",
    "              \"Orientation\", \"Pleural Other\", \"reports\", \"Atelectasis\", \"Cardiomegaly\", \n",
    "              \"Consolidation\", \"Edema\", \"Enlarged Cardiomediastinum\", \"Fracture\", \"Lung Lesion\",  \n",
    "              \"Lung Opacity\", \"No Finding\", \"Pleural Effusion\", \"Pleural Other\",\n",
    "              \"Pneumonia\", \"Pneumothorax\", \"Support Devices\", \"split\"], axis=1)\n",
    "# save labels dataframe\n",
    "df.to_csv(path/'mimiccxr-jpg.csv', index=False, encoding='utf-8-sig')\n",
    "# read train dataframe\n",
    "df = pd.read_csv(path/'mimiccxr-jpg.csv')"
   ]
  },
  {
   "cell_type": "code",
   "execution_count": 5,
   "id": "83f35319",
   "metadata": {},
   "outputs": [
    {
     "name": "stdout",
     "output_type": "stream",
     "text": [
      "<class 'pandas.core.frame.DataFrame'>\n",
      "Int64Index: 356225 entries, 0 to 377109\n",
      "Data columns (total 2 columns):\n",
      " #   Column  Non-Null Count   Dtype \n",
      "---  ------  --------------   ----- \n",
      " 0   path    356225 non-null  object\n",
      " 1   labels  356225 non-null  object\n",
      "dtypes: object(2)\n",
      "memory usage: 8.2+ MB\n"
     ]
    }
   ],
   "source": [
    "# drop rows with no any label\n",
    "df = df.dropna(subset=['labels'])\n",
    "df.info()"
   ]
  },
  {
   "cell_type": "code",
   "execution_count": 6,
   "id": "b329aaa8",
   "metadata": {},
   "outputs": [
    {
     "data": {
      "text/html": [
       "<div>\n",
       "<style scoped>\n",
       "    .dataframe tbody tr th:only-of-type {\n",
       "        vertical-align: middle;\n",
       "    }\n",
       "\n",
       "    .dataframe tbody tr th {\n",
       "        vertical-align: top;\n",
       "    }\n",
       "\n",
       "    .dataframe thead th {\n",
       "        text-align: right;\n",
       "    }\n",
       "</style>\n",
       "<table border=\"1\" class=\"dataframe\">\n",
       "  <thead>\n",
       "    <tr style=\"text-align: right;\">\n",
       "      <th></th>\n",
       "      <th>path</th>\n",
       "      <th>labels</th>\n",
       "    </tr>\n",
       "  </thead>\n",
       "  <tbody>\n",
       "    <tr>\n",
       "      <th>377105</th>\n",
       "      <td>files/p19/p19999733/s57132437/428e2c18-5721d8f3-35a05001-36f3d080-9053b83c.jpg</td>\n",
       "      <td>finding</td>\n",
       "    </tr>\n",
       "    <tr>\n",
       "      <th>377106</th>\n",
       "      <td>files/p19/p19999733/s57132437/58c403aa-35ff8bd9-73e39f54-8dc9cc5d-e0ec3fa9.jpg</td>\n",
       "      <td>finding</td>\n",
       "    </tr>\n",
       "    <tr>\n",
       "      <th>377107</th>\n",
       "      <td>files/p19/p19999987/s55368167/58766883-376a15ce-3b323a28-6af950a0-16b793bd.jpg</td>\n",
       "      <td>atelectasis</td>\n",
       "    </tr>\n",
       "    <tr>\n",
       "      <th>377108</th>\n",
       "      <td>files/p19/p19999987/s58621812/7ba273af-3d290f8d-e28d0ab4-484b7a86-7fc12b08.jpg</td>\n",
       "      <td>atelectasis,support devices</td>\n",
       "    </tr>\n",
       "    <tr>\n",
       "      <th>377109</th>\n",
       "      <td>files/p19/p19999987/s58971208/1a1fe7e3-cbac5d93-b339aeda-86bb86b5-4f31e82e.jpg</td>\n",
       "      <td>atelectasis</td>\n",
       "    </tr>\n",
       "  </tbody>\n",
       "</table>\n",
       "</div>"
      ],
      "text/plain": [
       "                                                                                  path  \\\n",
       "377105  files/p19/p19999733/s57132437/428e2c18-5721d8f3-35a05001-36f3d080-9053b83c.jpg   \n",
       "377106  files/p19/p19999733/s57132437/58c403aa-35ff8bd9-73e39f54-8dc9cc5d-e0ec3fa9.jpg   \n",
       "377107  files/p19/p19999987/s55368167/58766883-376a15ce-3b323a28-6af950a0-16b793bd.jpg   \n",
       "377108  files/p19/p19999987/s58621812/7ba273af-3d290f8d-e28d0ab4-484b7a86-7fc12b08.jpg   \n",
       "377109  files/p19/p19999987/s58971208/1a1fe7e3-cbac5d93-b339aeda-86bb86b5-4f31e82e.jpg   \n",
       "\n",
       "                             labels  \n",
       "377105                      finding  \n",
       "377106                      finding  \n",
       "377107                  atelectasis  \n",
       "377108  atelectasis,support devices  \n",
       "377109                  atelectasis  "
      ]
     },
     "execution_count": 6,
     "metadata": {},
     "output_type": "execute_result"
    }
   ],
   "source": [
    "df.tail()"
   ]
  }
 ],
 "metadata": {
  "environment": {
   "kernel": "conda-root-py",
   "name": "pytorch-gpu.1-10.m87",
   "type": "gcloud",
   "uri": "gcr.io/deeplearning-platform-release/pytorch-gpu.1-10:m87"
  },
  "kernelspec": {
   "display_name": "Python [conda env:root] *",
   "language": "python",
   "name": "conda-root-py"
  },
  "language_info": {
   "codemirror_mode": {
    "name": "ipython",
    "version": 3
   },
   "file_extension": ".py",
   "mimetype": "text/x-python",
   "name": "python",
   "nbconvert_exporter": "python",
   "pygments_lexer": "ipython3",
   "version": "3.7.12"
  }
 },
 "nbformat": 4,
 "nbformat_minor": 5
}
